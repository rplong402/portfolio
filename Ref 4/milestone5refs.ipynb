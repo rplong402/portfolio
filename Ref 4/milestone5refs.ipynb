{
 "cells": [
  {
   "cell_type": "code",
   "execution_count": null,
   "metadata": {},
   "outputs": [],
   "source": [
    "#references\n",
    "# https://pandas.pydata.org/pandas-docs/version/0.13.1/visualization.html\n",
    "# https://www.w3resource.com/graphics/matplotlib/barchart/matplotlib-barchart-exercise-11.php\n",
    "# https://docs.scipy.org/doc/numpy-1.13.0/reference/arrays.datetime.html#datetime-units\n",
    "# https://stackoverflow.com/questions/4700614/how-to-put-the-legend-out-of-the-plot\n",
    "# https://datatofish.com/pandas-dataframe-to-sql/\n",
    "\n"
   ]
  }
 ],
 "metadata": {
  "kernelspec": {
   "display_name": "Python 3",
   "language": "python",
   "name": "python3"
  },
  "language_info": {
   "codemirror_mode": {
    "name": "ipython",
    "version": 3
   },
   "file_extension": ".py",
   "mimetype": "text/x-python",
   "name": "python",
   "nbconvert_exporter": "python",
   "pygments_lexer": "ipython3",
   "version": "3.7.6"
  }
 },
 "nbformat": 4,
 "nbformat_minor": 4
}
