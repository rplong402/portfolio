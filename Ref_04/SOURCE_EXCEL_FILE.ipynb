{
 "cells": [
  {
   "cell_type": "code",
   "execution_count": 1,
   "metadata": {},
   "outputs": [],
   "source": [
    "# Import Libraries and Modules used for class\n",
    "import numpy as np\n",
    "import pandas as pd\n",
    "import scipy\n",
    "import sklearn\n",
    "import matplotlib.pyplot as plt\n",
    "from bs4 import BeautifulSoup\n",
    "import lxml\n",
    "import seaborn\n",
    "import statsmodels\n",
    "import patsy\n",
    "import requests\n",
    "from datetime import datetime, timedelta"
   ]
  },
  {
   "cell_type": "markdown",
   "metadata": {},
   "source": [
    "# Milestone 2 (Weeks 5 & 6)"
   ]
  },
  {
   "cell_type": "markdown",
   "metadata": {},
   "source": [
    "Cleaning/Formatting Flat File Source\n",
    "Perform at least 5 data transformation and/or cleansing steps to your flat file data.  \n",
    "  \n",
    "Examples:  \n",
    " Replace Headers  \n",
    " Format data into a more readable format  \n",
    " Identify outliers and bad data  \n",
    " Find duplicates  \n",
    " Fix casing or inconsistent values  \n",
    " Conduct Fuzzy Matching  \n",
    " \n",
    "You can submit a Jupyter Notebook or a PDF of your code. If you submit a .py file you need to also include a PDF or attachment of your results."
   ]
  },
  {
   "cell_type": "code",
   "execution_count": 2,
   "metadata": {},
   "outputs": [],
   "source": [
    "#read file / import\n",
    "imwc19 = pd.read_excel('2019_Ironman_World_Championship_ Results.xlsx')"
   ]
  },
  {
   "cell_type": "code",
   "execution_count": 3,
   "metadata": {},
   "outputs": [
    {
     "data": {
      "text/html": [
       "<div>\n",
       "<style scoped>\n",
       "    .dataframe tbody tr th:only-of-type {\n",
       "        vertical-align: middle;\n",
       "    }\n",
       "\n",
       "    .dataframe tbody tr th {\n",
       "        vertical-align: top;\n",
       "    }\n",
       "\n",
       "    .dataframe thead th {\n",
       "        text-align: right;\n",
       "    }\n",
       "</style>\n",
       "<table border=\"1\" class=\"dataframe\">\n",
       "  <thead>\n",
       "    <tr style=\"text-align: right;\">\n",
       "      <th></th>\n",
       "      <th>BIB</th>\n",
       "      <th>Name</th>\n",
       "      <th>Country</th>\n",
       "      <th>Gender</th>\n",
       "      <th>Division</th>\n",
       "      <th>Swim</th>\n",
       "      <th>Bike</th>\n",
       "      <th>Run</th>\n",
       "      <th>Overall</th>\n",
       "      <th>Division Rank</th>\n",
       "      <th>Gender Rank</th>\n",
       "      <th>Overall Rank</th>\n",
       "      <th>T1</th>\n",
       "      <th>T2</th>\n",
       "    </tr>\n",
       "  </thead>\n",
       "  <tbody>\n",
       "    <tr>\n",
       "      <th>0</th>\n",
       "      <td>4</td>\n",
       "      <td>Frodeno, Jan</td>\n",
       "      <td>DEU</td>\n",
       "      <td>Male</td>\n",
       "      <td>MPRO</td>\n",
       "      <td>00:47:31</td>\n",
       "      <td>04:16:02</td>\n",
       "      <td>02:42:43</td>\n",
       "      <td>07:51:13</td>\n",
       "      <td>1</td>\n",
       "      <td>1</td>\n",
       "      <td>1</td>\n",
       "      <td>00:01:58</td>\n",
       "      <td>00:02:59</td>\n",
       "    </tr>\n",
       "    <tr>\n",
       "      <th>1</th>\n",
       "      <td>6</td>\n",
       "      <td>O'donnell, Tim</td>\n",
       "      <td>USA</td>\n",
       "      <td>Male</td>\n",
       "      <td>MPRO</td>\n",
       "      <td>00:47:38</td>\n",
       "      <td>04:18:11</td>\n",
       "      <td>02:49:45</td>\n",
       "      <td>07:59:41</td>\n",
       "      <td>2</td>\n",
       "      <td>2</td>\n",
       "      <td>2</td>\n",
       "      <td>00:02:01</td>\n",
       "      <td>00:02:06</td>\n",
       "    </tr>\n",
       "    <tr>\n",
       "      <th>2</th>\n",
       "      <td>5</td>\n",
       "      <td>Kienle, Sebastian</td>\n",
       "      <td>DEU</td>\n",
       "      <td>Male</td>\n",
       "      <td>MPRO</td>\n",
       "      <td>00:52:17</td>\n",
       "      <td>04:15:04</td>\n",
       "      <td>02:49:56</td>\n",
       "      <td>08:02:04</td>\n",
       "      <td>3</td>\n",
       "      <td>3</td>\n",
       "      <td>3</td>\n",
       "      <td>00:02:12</td>\n",
       "      <td>00:02:35</td>\n",
       "    </tr>\n",
       "    <tr>\n",
       "      <th>3</th>\n",
       "      <td>14</td>\n",
       "      <td>Hoffman, Ben</td>\n",
       "      <td>USA</td>\n",
       "      <td>Male</td>\n",
       "      <td>MPRO</td>\n",
       "      <td>00:51:01</td>\n",
       "      <td>04:24:01</td>\n",
       "      <td>02:43:08</td>\n",
       "      <td>08:02:52</td>\n",
       "      <td>4</td>\n",
       "      <td>4</td>\n",
       "      <td>4</td>\n",
       "      <td>00:02:25</td>\n",
       "      <td>00:02:17</td>\n",
       "    </tr>\n",
       "    <tr>\n",
       "      <th>4</th>\n",
       "      <td>11</td>\n",
       "      <td>Wurf, Cameron</td>\n",
       "      <td>AUS</td>\n",
       "      <td>Male</td>\n",
       "      <td>MPRO</td>\n",
       "      <td>00:52:25</td>\n",
       "      <td>04:14:44</td>\n",
       "      <td>02:55:03</td>\n",
       "      <td>08:06:41</td>\n",
       "      <td>5</td>\n",
       "      <td>5</td>\n",
       "      <td>5</td>\n",
       "      <td>00:02:07</td>\n",
       "      <td>00:02:22</td>\n",
       "    </tr>\n",
       "  </tbody>\n",
       "</table>\n",
       "</div>"
      ],
      "text/plain": [
       "   BIB               Name Country Gender Division      Swim      Bike  \\\n",
       "0    4       Frodeno, Jan     DEU   Male     MPRO  00:47:31  04:16:02   \n",
       "1    6     O'donnell, Tim     USA   Male     MPRO  00:47:38  04:18:11   \n",
       "2    5  Kienle, Sebastian     DEU   Male     MPRO  00:52:17  04:15:04   \n",
       "3   14       Hoffman, Ben     USA   Male     MPRO  00:51:01  04:24:01   \n",
       "4   11      Wurf, Cameron     AUS   Male     MPRO  00:52:25  04:14:44   \n",
       "\n",
       "        Run   Overall Division Rank Gender Rank Overall Rank        T1  \\\n",
       "0  02:42:43  07:51:13             1           1            1  00:01:58   \n",
       "1  02:49:45  07:59:41             2           2            2  00:02:01   \n",
       "2  02:49:56  08:02:04             3           3            3  00:02:12   \n",
       "3  02:43:08  08:02:52             4           4            4  00:02:25   \n",
       "4  02:55:03  08:06:41             5           5            5  00:02:07   \n",
       "\n",
       "         T2  \n",
       "0  00:02:59  \n",
       "1  00:02:06  \n",
       "2  00:02:35  \n",
       "3  00:02:17  \n",
       "4  00:02:22  "
      ]
     },
     "execution_count": 3,
     "metadata": {},
     "output_type": "execute_result"
    }
   ],
   "source": [
    "# review data\n",
    "imwc19.head()"
   ]
  },
  {
   "cell_type": "code",
   "execution_count": 4,
   "metadata": {},
   "outputs": [],
   "source": [
    "# Data transformation 1\n",
    "# drop columns\n",
    "imwc19.drop(labels=['Division Rank'],axis=1,inplace=True)\n",
    "imwc19.drop(labels=['Gender Rank'],axis=1,inplace=True)\n",
    "imwc19.drop(labels=['BIB'],axis=1,inplace=True)\n",
    "imwc19.drop(labels=['Division'],axis=1,inplace=True)"
   ]
  },
  {
   "cell_type": "code",
   "execution_count": 5,
   "metadata": {},
   "outputs": [],
   "source": [
    "# Data transformation 2\n",
    "# create two new columns for first & last names, strip the blanks\n",
    "imwc19['LName'] = imwc19['Name'].apply(lambda x: x.split(',')[0])\n",
    "imwc19['FName'] = imwc19['Name'].apply(lambda x: x.split(',')[1])\n",
    "imwc19['FName'] = imwc19['FName'].str.strip()\n",
    "imwc19['LName'] = imwc19['LName'].str.strip()"
   ]
  },
  {
   "cell_type": "code",
   "execution_count": 6,
   "metadata": {},
   "outputs": [],
   "source": [
    "# Data transformation 3\n",
    "# rename two columns\n",
    "imwc19 = imwc19.rename(columns={'Overall Rank':'Place','Overall':'Total'})"
   ]
  },
  {
   "cell_type": "code",
   "execution_count": 7,
   "metadata": {},
   "outputs": [
    {
     "data": {
      "text/plain": [
       "Name         0\n",
       "Country      2\n",
       "Gender       0\n",
       "Swim        79\n",
       "Bike       119\n",
       "Run        173\n",
       "Total      176\n",
       "Place        0\n",
       "T1          81\n",
       "T2         136\n",
       "LName        0\n",
       "FName        0\n",
       "dtype: int64"
      ]
     },
     "execution_count": 7,
     "metadata": {},
     "output_type": "execute_result"
    }
   ],
   "source": [
    "# Data transformation 4\n",
    "# find missing, likely from DNFs or DNS (did not finish or start)\n",
    "imwc19.isnull().sum()"
   ]
  },
  {
   "cell_type": "code",
   "execution_count": 8,
   "metadata": {},
   "outputs": [],
   "source": [
    "# remove records with n/a from total, which would indicate a DNF or DNS as it was largest category\n",
    "imwc19 = imwc19[imwc19['Total'].notna()]"
   ]
  },
  {
   "cell_type": "code",
   "execution_count": 9,
   "metadata": {},
   "outputs": [
    {
     "data": {
      "text/plain": [
       "Name       0\n",
       "Country    2\n",
       "Gender     0\n",
       "Swim       0\n",
       "Bike       0\n",
       "Run        0\n",
       "Total      0\n",
       "Place      0\n",
       "T1         0\n",
       "T2         0\n",
       "LName      0\n",
       "FName      0\n",
       "dtype: int64"
      ]
     },
     "execution_count": 9,
     "metadata": {},
     "output_type": "execute_result"
    }
   ],
   "source": [
    "# confirm majority of NAs were cleared\n",
    "imwc19.isnull().sum()"
   ]
  },
  {
   "cell_type": "code",
   "execution_count": 10,
   "metadata": {},
   "outputs": [
    {
     "data": {
      "text/plain": [
       "['Name',\n",
       " 'Country',\n",
       " 'Gender',\n",
       " 'Swim',\n",
       " 'Bike',\n",
       " 'Run',\n",
       " 'Total',\n",
       " 'Place',\n",
       " 'T1',\n",
       " 'T2',\n",
       " 'LName',\n",
       " 'FName']"
      ]
     },
     "execution_count": 10,
     "metadata": {},
     "output_type": "execute_result"
    }
   ],
   "source": [
    "# determine column names in DF\n",
    "cols = list(imwc19.columns.values)\n",
    "cols"
   ]
  },
  {
   "cell_type": "code",
   "execution_count": 11,
   "metadata": {},
   "outputs": [],
   "source": [
    "# Data transformation 5\n",
    "# rearrange the columns\n",
    "imwc19 = imwc19[[ 'Place',\n",
    " 'Name',\n",
    " 'FName',\n",
    " 'LName',            \n",
    " 'Country',\n",
    " 'Gender',\n",
    " 'Swim',\n",
    " 'T1',\n",
    " 'Bike',\n",
    " 'T2',                 \n",
    " 'Run',\n",
    " 'Total']]"
   ]
  },
  {
   "cell_type": "code",
   "execution_count": 12,
   "metadata": {},
   "outputs": [
    {
     "data": {
      "text/html": [
       "<div>\n",
       "<style scoped>\n",
       "    .dataframe tbody tr th:only-of-type {\n",
       "        vertical-align: middle;\n",
       "    }\n",
       "\n",
       "    .dataframe tbody tr th {\n",
       "        vertical-align: top;\n",
       "    }\n",
       "\n",
       "    .dataframe thead th {\n",
       "        text-align: right;\n",
       "    }\n",
       "</style>\n",
       "<table border=\"1\" class=\"dataframe\">\n",
       "  <thead>\n",
       "    <tr style=\"text-align: right;\">\n",
       "      <th></th>\n",
       "      <th>Place</th>\n",
       "      <th>Name</th>\n",
       "      <th>FName</th>\n",
       "      <th>LName</th>\n",
       "      <th>Country</th>\n",
       "      <th>Gender</th>\n",
       "      <th>Swim</th>\n",
       "      <th>T1</th>\n",
       "      <th>Bike</th>\n",
       "      <th>T2</th>\n",
       "      <th>Run</th>\n",
       "      <th>Total</th>\n",
       "    </tr>\n",
       "  </thead>\n",
       "  <tbody>\n",
       "    <tr>\n",
       "      <th>0</th>\n",
       "      <td>1</td>\n",
       "      <td>Frodeno, Jan</td>\n",
       "      <td>Jan</td>\n",
       "      <td>Frodeno</td>\n",
       "      <td>DEU</td>\n",
       "      <td>Male</td>\n",
       "      <td>00:47:31</td>\n",
       "      <td>00:01:58</td>\n",
       "      <td>04:16:02</td>\n",
       "      <td>00:02:59</td>\n",
       "      <td>02:42:43</td>\n",
       "      <td>07:51:13</td>\n",
       "    </tr>\n",
       "    <tr>\n",
       "      <th>1</th>\n",
       "      <td>2</td>\n",
       "      <td>O'donnell, Tim</td>\n",
       "      <td>Tim</td>\n",
       "      <td>O'donnell</td>\n",
       "      <td>USA</td>\n",
       "      <td>Male</td>\n",
       "      <td>00:47:38</td>\n",
       "      <td>00:02:01</td>\n",
       "      <td>04:18:11</td>\n",
       "      <td>00:02:06</td>\n",
       "      <td>02:49:45</td>\n",
       "      <td>07:59:41</td>\n",
       "    </tr>\n",
       "    <tr>\n",
       "      <th>2</th>\n",
       "      <td>3</td>\n",
       "      <td>Kienle, Sebastian</td>\n",
       "      <td>Sebastian</td>\n",
       "      <td>Kienle</td>\n",
       "      <td>DEU</td>\n",
       "      <td>Male</td>\n",
       "      <td>00:52:17</td>\n",
       "      <td>00:02:12</td>\n",
       "      <td>04:15:04</td>\n",
       "      <td>00:02:35</td>\n",
       "      <td>02:49:56</td>\n",
       "      <td>08:02:04</td>\n",
       "    </tr>\n",
       "    <tr>\n",
       "      <th>3</th>\n",
       "      <td>4</td>\n",
       "      <td>Hoffman, Ben</td>\n",
       "      <td>Ben</td>\n",
       "      <td>Hoffman</td>\n",
       "      <td>USA</td>\n",
       "      <td>Male</td>\n",
       "      <td>00:51:01</td>\n",
       "      <td>00:02:25</td>\n",
       "      <td>04:24:01</td>\n",
       "      <td>00:02:17</td>\n",
       "      <td>02:43:08</td>\n",
       "      <td>08:02:52</td>\n",
       "    </tr>\n",
       "    <tr>\n",
       "      <th>4</th>\n",
       "      <td>5</td>\n",
       "      <td>Wurf, Cameron</td>\n",
       "      <td>Cameron</td>\n",
       "      <td>Wurf</td>\n",
       "      <td>AUS</td>\n",
       "      <td>Male</td>\n",
       "      <td>00:52:25</td>\n",
       "      <td>00:02:07</td>\n",
       "      <td>04:14:44</td>\n",
       "      <td>00:02:22</td>\n",
       "      <td>02:55:03</td>\n",
       "      <td>08:06:41</td>\n",
       "    </tr>\n",
       "  </tbody>\n",
       "</table>\n",
       "</div>"
      ],
      "text/plain": [
       "  Place               Name      FName      LName Country Gender      Swim  \\\n",
       "0     1       Frodeno, Jan        Jan    Frodeno     DEU   Male  00:47:31   \n",
       "1     2     O'donnell, Tim        Tim  O'donnell     USA   Male  00:47:38   \n",
       "2     3  Kienle, Sebastian  Sebastian     Kienle     DEU   Male  00:52:17   \n",
       "3     4       Hoffman, Ben        Ben    Hoffman     USA   Male  00:51:01   \n",
       "4     5      Wurf, Cameron    Cameron       Wurf     AUS   Male  00:52:25   \n",
       "\n",
       "         T1      Bike        T2       Run     Total  \n",
       "0  00:01:58  04:16:02  00:02:59  02:42:43  07:51:13  \n",
       "1  00:02:01  04:18:11  00:02:06  02:49:45  07:59:41  \n",
       "2  00:02:12  04:15:04  00:02:35  02:49:56  08:02:04  \n",
       "3  00:02:25  04:24:01  00:02:17  02:43:08  08:02:52  \n",
       "4  00:02:07  04:14:44  00:02:22  02:55:03  08:06:41  "
      ]
     },
     "execution_count": 12,
     "metadata": {},
     "output_type": "execute_result"
    }
   ],
   "source": [
    "imwc19.head()"
   ]
  },
  {
   "cell_type": "code",
   "execution_count": 13,
   "metadata": {
    "scrolled": true
   },
   "outputs": [
    {
     "name": "stdout",
     "output_type": "stream",
     "text": [
      "<class 'pandas.core.frame.DataFrame'>\n",
      "Int64Index: 2258 entries, 0 to 2257\n",
      "Data columns (total 12 columns):\n",
      " #   Column   Non-Null Count  Dtype \n",
      "---  ------   --------------  ----- \n",
      " 0   Place    2258 non-null   object\n",
      " 1   Name     2258 non-null   object\n",
      " 2   FName    2258 non-null   object\n",
      " 3   LName    2258 non-null   object\n",
      " 4   Country  2256 non-null   object\n",
      " 5   Gender   2258 non-null   object\n",
      " 6   Swim     2258 non-null   object\n",
      " 7   T1       2258 non-null   object\n",
      " 8   Bike     2258 non-null   object\n",
      " 9   T2       2258 non-null   object\n",
      " 10  Run      2258 non-null   object\n",
      " 11  Total    2258 non-null   object\n",
      "dtypes: object(12)\n",
      "memory usage: 229.3+ KB\n"
     ]
    }
   ],
   "source": [
    "imwc19.info()"
   ]
  },
  {
   "cell_type": "code",
   "execution_count": 14,
   "metadata": {},
   "outputs": [
    {
     "data": {
      "text/html": [
       "<div>\n",
       "<style scoped>\n",
       "    .dataframe tbody tr th:only-of-type {\n",
       "        vertical-align: middle;\n",
       "    }\n",
       "\n",
       "    .dataframe tbody tr th {\n",
       "        vertical-align: top;\n",
       "    }\n",
       "\n",
       "    .dataframe thead th {\n",
       "        text-align: right;\n",
       "    }\n",
       "</style>\n",
       "<table border=\"1\" class=\"dataframe\">\n",
       "  <thead>\n",
       "    <tr style=\"text-align: right;\">\n",
       "      <th></th>\n",
       "      <th>Place</th>\n",
       "      <th>Name</th>\n",
       "      <th>FName</th>\n",
       "      <th>LName</th>\n",
       "      <th>Country</th>\n",
       "      <th>Gender</th>\n",
       "      <th>Swim</th>\n",
       "      <th>T1</th>\n",
       "      <th>Bike</th>\n",
       "      <th>T2</th>\n",
       "      <th>Run</th>\n",
       "      <th>Total</th>\n",
       "    </tr>\n",
       "  </thead>\n",
       "  <tbody>\n",
       "    <tr>\n",
       "      <th>count</th>\n",
       "      <td>2258</td>\n",
       "      <td>2258</td>\n",
       "      <td>2258</td>\n",
       "      <td>2258</td>\n",
       "      <td>2256</td>\n",
       "      <td>2258</td>\n",
       "      <td>2258</td>\n",
       "      <td>2258</td>\n",
       "      <td>2258</td>\n",
       "      <td>2258</td>\n",
       "      <td>2258</td>\n",
       "      <td>2258</td>\n",
       "    </tr>\n",
       "    <tr>\n",
       "      <th>unique</th>\n",
       "      <td>2136</td>\n",
       "      <td>2257</td>\n",
       "      <td>1225</td>\n",
       "      <td>2033</td>\n",
       "      <td>73</td>\n",
       "      <td>2</td>\n",
       "      <td>1492</td>\n",
       "      <td>490</td>\n",
       "      <td>1999</td>\n",
       "      <td>582</td>\n",
       "      <td>2014</td>\n",
       "      <td>2136</td>\n",
       "    </tr>\n",
       "    <tr>\n",
       "      <th>top</th>\n",
       "      <td>1384</td>\n",
       "      <td>Wilson, Craig</td>\n",
       "      <td>David</td>\n",
       "      <td>Smith</td>\n",
       "      <td>USA</td>\n",
       "      <td>Male</td>\n",
       "      <td>01:03:01</td>\n",
       "      <td>00:04:07</td>\n",
       "      <td>05:27:49</td>\n",
       "      <td>00:03:15</td>\n",
       "      <td>04:28:22</td>\n",
       "      <td>09:39:29</td>\n",
       "    </tr>\n",
       "    <tr>\n",
       "      <th>freq</th>\n",
       "      <td>3</td>\n",
       "      <td>2</td>\n",
       "      <td>36</td>\n",
       "      <td>14</td>\n",
       "      <td>587</td>\n",
       "      <td>1649</td>\n",
       "      <td>6</td>\n",
       "      <td>20</td>\n",
       "      <td>4</td>\n",
       "      <td>16</td>\n",
       "      <td>3</td>\n",
       "      <td>3</td>\n",
       "    </tr>\n",
       "  </tbody>\n",
       "</table>\n",
       "</div>"
      ],
      "text/plain": [
       "       Place           Name  FName  LName Country Gender      Swim        T1  \\\n",
       "count   2258           2258   2258   2258    2256   2258      2258      2258   \n",
       "unique  2136           2257   1225   2033      73      2      1492       490   \n",
       "top     1384  Wilson, Craig  David  Smith     USA   Male  01:03:01  00:04:07   \n",
       "freq       3              2     36     14     587   1649         6        20   \n",
       "\n",
       "            Bike        T2       Run     Total  \n",
       "count       2258      2258      2258      2258  \n",
       "unique      1999       582      2014      2136  \n",
       "top     05:27:49  00:03:15  04:28:22  09:39:29  \n",
       "freq           4        16         3         3  "
      ]
     },
     "execution_count": 14,
     "metadata": {},
     "output_type": "execute_result"
    }
   ],
   "source": [
    "# useful stats\n",
    "imwc19.describe()"
   ]
  },
  {
   "cell_type": "code",
   "execution_count": 15,
   "metadata": {},
   "outputs": [
    {
     "data": {
      "text/html": [
       "<div>\n",
       "<style scoped>\n",
       "    .dataframe tbody tr th:only-of-type {\n",
       "        vertical-align: middle;\n",
       "    }\n",
       "\n",
       "    .dataframe tbody tr th {\n",
       "        vertical-align: top;\n",
       "    }\n",
       "\n",
       "    .dataframe thead th {\n",
       "        text-align: right;\n",
       "    }\n",
       "</style>\n",
       "<table border=\"1\" class=\"dataframe\">\n",
       "  <thead>\n",
       "    <tr style=\"text-align: right;\">\n",
       "      <th></th>\n",
       "      <th>Place</th>\n",
       "      <th>Name</th>\n",
       "      <th>FName</th>\n",
       "      <th>LName</th>\n",
       "      <th>Country</th>\n",
       "      <th>Gender</th>\n",
       "      <th>Swim</th>\n",
       "      <th>T1</th>\n",
       "      <th>Bike</th>\n",
       "      <th>T2</th>\n",
       "      <th>Run</th>\n",
       "      <th>Total</th>\n",
       "    </tr>\n",
       "  </thead>\n",
       "  <tbody>\n",
       "  </tbody>\n",
       "</table>\n",
       "</div>"
      ],
      "text/plain": [
       "Empty DataFrame\n",
       "Columns: [Place, Name, FName, LName, Country, Gender, Swim, T1, Bike, T2, Run, Total]\n",
       "Index: []"
      ]
     },
     "execution_count": 15,
     "metadata": {},
     "output_type": "execute_result"
    }
   ],
   "source": [
    "# Search for duplicates based on name & country\n",
    "imwc19[imwc19.duplicated(['Name','Country'])]\n",
    "# NO DUPLICATES FOUND AFTER REMOVING NAs"
   ]
  },
  {
   "cell_type": "code",
   "execution_count": 16,
   "metadata": {},
   "outputs": [],
   "source": [
    "# No longer applicable after removing NAs\n",
    "# review duplicates\n",
    "# imwc19.loc[imwc19['Name'] == 'Clark, David']"
   ]
  },
  {
   "cell_type": "code",
   "execution_count": 17,
   "metadata": {},
   "outputs": [
    {
     "data": {
      "text/html": [
       "<div>\n",
       "<style scoped>\n",
       "    .dataframe tbody tr th:only-of-type {\n",
       "        vertical-align: middle;\n",
       "    }\n",
       "\n",
       "    .dataframe tbody tr th {\n",
       "        vertical-align: top;\n",
       "    }\n",
       "\n",
       "    .dataframe thead th {\n",
       "        text-align: right;\n",
       "    }\n",
       "</style>\n",
       "<table border=\"1\" class=\"dataframe\">\n",
       "  <thead>\n",
       "    <tr style=\"text-align: right;\">\n",
       "      <th></th>\n",
       "      <th>Place</th>\n",
       "      <th>Name</th>\n",
       "      <th>FName</th>\n",
       "      <th>LName</th>\n",
       "      <th>Country</th>\n",
       "      <th>Gender</th>\n",
       "      <th>Swim</th>\n",
       "      <th>T1</th>\n",
       "      <th>Bike</th>\n",
       "      <th>T2</th>\n",
       "      <th>Run</th>\n",
       "      <th>Total</th>\n",
       "    </tr>\n",
       "  </thead>\n",
       "  <tbody>\n",
       "    <tr>\n",
       "      <th>446</th>\n",
       "      <td>447</td>\n",
       "      <td>Gonzalo, Pardo</td>\n",
       "      <td>Pardo</td>\n",
       "      <td>Gonzalo</td>\n",
       "      <td>NaN</td>\n",
       "      <td>Male</td>\n",
       "      <td>01:07:37</td>\n",
       "      <td>00:03:39</td>\n",
       "      <td>05:14:06</td>\n",
       "      <td>00:04:43</td>\n",
       "      <td>03:21:59</td>\n",
       "      <td>09:52:04</td>\n",
       "    </tr>\n",
       "    <tr>\n",
       "      <th>1102</th>\n",
       "      <td>1103</td>\n",
       "      <td>Hosokawa, Eriko</td>\n",
       "      <td>Eriko</td>\n",
       "      <td>Hosokawa</td>\n",
       "      <td>NaN</td>\n",
       "      <td>Female</td>\n",
       "      <td>01:10:31</td>\n",
       "      <td>00:04:12</td>\n",
       "      <td>06:07:53</td>\n",
       "      <td>00:02:32</td>\n",
       "      <td>03:28:19</td>\n",
       "      <td>10:53:27</td>\n",
       "    </tr>\n",
       "  </tbody>\n",
       "</table>\n",
       "</div>"
      ],
      "text/plain": [
       "     Place             Name  FName     LName Country  Gender      Swim  \\\n",
       "446    447   Gonzalo, Pardo  Pardo   Gonzalo     NaN    Male  01:07:37   \n",
       "1102  1103  Hosokawa, Eriko  Eriko  Hosokawa     NaN  Female  01:10:31   \n",
       "\n",
       "            T1      Bike        T2       Run     Total  \n",
       "446   00:03:39  05:14:06  00:04:43  03:21:59  09:52:04  \n",
       "1102  00:04:12  06:07:53  00:02:32  03:28:19  10:53:27  "
      ]
     },
     "execution_count": 17,
     "metadata": {},
     "output_type": "execute_result"
    }
   ],
   "source": [
    "# review the records with null values, they provide no value, will discard\n",
    "imwc19[imwc19.isna().any(axis=1)]"
   ]
  },
  {
   "cell_type": "code",
   "execution_count": 18,
   "metadata": {},
   "outputs": [],
   "source": [
    "# remove records with n/a\n",
    "imwc19 = imwc19.dropna(how='any',axis=0) "
   ]
  },
  {
   "cell_type": "code",
   "execution_count": 19,
   "metadata": {},
   "outputs": [],
   "source": [
    "# reset the index and sort by total time\n",
    "imwc19=imwc19.sort_values(by=['Total'])\n",
    "imwc19=imwc19.reset_index(drop=True)"
   ]
  },
  {
   "cell_type": "code",
   "execution_count": 20,
   "metadata": {},
   "outputs": [],
   "source": [
    "#reset place based on total time\n",
    "imwc19['Place'] = imwc19.index + 1"
   ]
  },
  {
   "cell_type": "code",
   "execution_count": 21,
   "metadata": {},
   "outputs": [],
   "source": [
    "#add source\n",
    "imwc19['Source'] = 'imwc19'"
   ]
  },
  {
   "cell_type": "code",
   "execution_count": 22,
   "metadata": {},
   "outputs": [],
   "source": [
    "# create a DF of countries with over 50 finishers\n",
    "overfiddy=pd.DataFrame(imwc19['Country'].value_counts()\n",
    "                       [imwc19['Country'].value_counts()>50]).rename(columns={'Country':'Finishers'})"
   ]
  },
  {
   "cell_type": "code",
   "execution_count": 23,
   "metadata": {},
   "outputs": [
    {
     "data": {
      "text/html": [
       "<div>\n",
       "<style scoped>\n",
       "    .dataframe tbody tr th:only-of-type {\n",
       "        vertical-align: middle;\n",
       "    }\n",
       "\n",
       "    .dataframe tbody tr th {\n",
       "        vertical-align: top;\n",
       "    }\n",
       "\n",
       "    .dataframe thead th {\n",
       "        text-align: right;\n",
       "    }\n",
       "</style>\n",
       "<table border=\"1\" class=\"dataframe\">\n",
       "  <thead>\n",
       "    <tr style=\"text-align: right;\">\n",
       "      <th></th>\n",
       "      <th>Finishers</th>\n",
       "    </tr>\n",
       "  </thead>\n",
       "  <tbody>\n",
       "    <tr>\n",
       "      <th>USA</th>\n",
       "      <td>587</td>\n",
       "    </tr>\n",
       "    <tr>\n",
       "      <th>DEU</th>\n",
       "      <td>266</td>\n",
       "    </tr>\n",
       "    <tr>\n",
       "      <th>AUS</th>\n",
       "      <td>185</td>\n",
       "    </tr>\n",
       "    <tr>\n",
       "      <th>GBR</th>\n",
       "      <td>150</td>\n",
       "    </tr>\n",
       "    <tr>\n",
       "      <th>CAN</th>\n",
       "      <td>94</td>\n",
       "    </tr>\n",
       "    <tr>\n",
       "      <th>FRA</th>\n",
       "      <td>87</td>\n",
       "    </tr>\n",
       "    <tr>\n",
       "      <th>BRA</th>\n",
       "      <td>76</td>\n",
       "    </tr>\n",
       "    <tr>\n",
       "      <th>JPN</th>\n",
       "      <td>65</td>\n",
       "    </tr>\n",
       "    <tr>\n",
       "      <th>CHE</th>\n",
       "      <td>54</td>\n",
       "    </tr>\n",
       "    <tr>\n",
       "      <th>ESP</th>\n",
       "      <td>53</td>\n",
       "    </tr>\n",
       "    <tr>\n",
       "      <th>BEL</th>\n",
       "      <td>53</td>\n",
       "    </tr>\n",
       "  </tbody>\n",
       "</table>\n",
       "</div>"
      ],
      "text/plain": [
       "     Finishers\n",
       "USA        587\n",
       "DEU        266\n",
       "AUS        185\n",
       "GBR        150\n",
       "CAN         94\n",
       "FRA         87\n",
       "BRA         76\n",
       "JPN         65\n",
       "CHE         54\n",
       "ESP         53\n",
       "BEL         53"
      ]
     },
     "execution_count": 23,
     "metadata": {},
     "output_type": "execute_result"
    }
   ],
   "source": [
    "overfiddy"
   ]
  },
  {
   "cell_type": "code",
   "execution_count": 24,
   "metadata": {},
   "outputs": [
    {
     "data": {
      "text/plain": [
       "<matplotlib.axes._subplots.AxesSubplot at 0x23b175f5548>"
      ]
     },
     "execution_count": 24,
     "metadata": {},
     "output_type": "execute_result"
    },
    {
     "data": {
      "image/png": "[encoded data removed]",
      "text/plain": [
       "<Figure size 432x288 with 1 Axes>"
      ]
     },
     "metadata": {
      "needs_background": "light"
     },
     "output_type": "display_data"
    }
   ],
   "source": [
    "# plot countries with over 50 finishers\n",
    "overfiddy.plot.bar(title='IMWC \\'19 - Countries with over 50 finishers')"
   ]
  },
  {
   "cell_type": "code",
   "execution_count": 25,
   "metadata": {},
   "outputs": [],
   "source": [
    "imwc19.to_excel(\"imwc19_output.xlsx\")  "
   ]
  }
 ],
 "metadata": {
  "kernelspec": {
   "display_name": "Python 3",
   "language": "python",
   "name": "python3"
  },
  "language_info": {
   "codemirror_mode": {
    "name": "ipython",
    "version": 3
   },
   "file_extension": ".py",
   "mimetype": "text/x-python",
   "name": "python",
   "nbconvert_exporter": "python",
   "pygments_lexer": "ipython3",
   "version": "3.8.8"
  }
 },
 "nbformat": 4,
 "nbformat_minor": 4
}
