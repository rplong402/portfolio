{
 "cells": [
  {
   "cell_type": "code",
   "execution_count": 1,
   "metadata": {},
   "outputs": [],
   "source": [
    "# Import Libraries and Modules used for class\n",
    "import numpy as np\n",
    "import pandas as pd\n",
    "import scipy\n",
    "import sklearn\n",
    "import matplotlib.pyplot as plt\n",
    "from bs4 import BeautifulSoup\n",
    "import lxml\n",
    "import seaborn\n",
    "import statsmodels\n",
    "import patsy\n",
    "import requests\n",
    "from datetime import datetime, timedelta\n",
    "import requests\n",
    "import json"
   ]
  },
  {
   "cell_type": "markdown",
   "metadata": {},
   "source": [
    "# Milestone 5 (Weeks 11 & 12)"
   ]
  },
  {
   "cell_type": "markdown",
   "metadata": {},
   "source": [
    "Merging the Data and Storing in a Database/Visualizing Data\n",
    "\n",
    "Now that you have cleaned and transformed your 3 datasets, you need to merge them together and load the data into a database. You can choose what kind of database (SQLLite or MySQL, Postgre SQL are all free options).\n",
    "\n",
    "Once all the data is merged together in your database, create 5 visualizations that demonstrate the data you have cleansed. You should have at least 2 visualizations that have data from more than one source.\n",
    "\n",
    "For the visualization portion of the project, you are welcome to use a python library like Matplotlib, Seaborn, or an R package ggPlot2, Plotly, or Tableau/PowerBI.\n",
    "\n",
    "PowerBI is a free tool that could be used – Tableau only has a free web author. If your use Tableau/PowerBI you need to submit a PDF with your assignment vs the Tableau/PowerBI file.\n",
    "\n",
    "Submit your code for merging and storing in the database, with your code for the visualizations along with a 250-500-word summary of what you learned and had to do to complete the project. You can submit a Jupyter Notebook or a PDF of your code. If you submit a .py file you need to also include a PDF or attachment of your results.\n",
    "\n",
    "Remember – your GitHub repository can act as a portfolio for potential employers! I would highly suggest using this to submit your work, so you can fill it with good content that demonstrates the projects you are working on!\n",
    "\n",
    "Milestone 5 is due Saturday, by Midnight of Week 12. Refer to the rubric for more grading detail."
   ]
  },
  {
   "cell_type": "markdown",
   "metadata": {},
   "source": [
    "## Code for merging and storing in the database"
   ]
  },
  {
   "cell_type": "code",
   "execution_count": 2,
   "metadata": {},
   "outputs": [],
   "source": [
    "# import the / read the cleansed data from Milestone 2, 3, 4 as dataframes\n",
    "imdf = pd.read_excel('imwc19_output.xlsx').drop(['Unnamed: 0'],axis=1)\n",
    "cfdf = pd.read_excel('cf19_output.xlsx').drop(['Unnamed: 0'],axis=1)\n",
    "wtsdf = pd.read_excel('wtswc19_output.xlsx').drop(['Unnamed: 0'],axis=1)"
   ]
  },
  {
   "cell_type": "code",
   "execution_count": 3,
   "metadata": {},
   "outputs": [],
   "source": [
    "#import libraries\n",
    "import sqlite3\n",
    "from pandas import DataFrame"
   ]
  },
  {
   "cell_type": "code",
   "execution_count": 4,
   "metadata": {},
   "outputs": [],
   "source": [
    "#creates/connects the database\n",
    "conn = sqlite3.connect('database_rpl.db')"
   ]
  },
  {
   "cell_type": "code",
   "execution_count": 5,
   "metadata": {},
   "outputs": [],
   "source": [
    "# create a cursor object\n",
    "c = conn.cursor()\n",
    "\n",
    "# create the table w/ columns in database\n",
    "\n",
    "# comment out after tables have been created\n",
    "\n",
    "#c.execute(\"CREATE TABLE im(Place integer, Name text PRIMARY KEY, Fname text, Lname text, Country text, Gender text, Swim integer, T1 integer, Bike integer, T2 integer, Run integer, Total integer, Source text)\")\n",
    "#c.execute(\"CREATE TABLE cf(Place integer, Name text PRIMARY KEY, Fname text, Lname text, Country text, Gender text, Swim integer, T1 integer, Bike integer, T2 integer, Run integer, Total integer, Source text)\")\n",
    "#c.execute(\"CREATE TABLE wts(Place integer, Name text PRIMARY KEY, Fname text, Lname text, Country text, Gender text, Swim integer, T1 integer, Bike integer, T2 integer, Run integer, Total integer, Source text)\")\n",
    "\n",
    "conn.commit()"
   ]
  },
  {
   "cell_type": "code",
   "execution_count": 6,
   "metadata": {},
   "outputs": [],
   "source": [
    "# load dataframes into tables created in database\n",
    "imdf.to_sql('im', conn, if_exists='replace', index = False)\n",
    "cfdf.to_sql('cf', conn, if_exists='replace', index = False)\n",
    "wtsdf.to_sql('wts', conn, if_exists='replace', index = False)"
   ]
  },
  {
   "cell_type": "code",
   "execution_count": 7,
   "metadata": {},
   "outputs": [
    {
     "data": {
      "text/plain": [
       "<sqlite3.Cursor at 0x22271751420>"
      ]
     },
     "execution_count": 7,
     "metadata": {},
     "output_type": "execute_result"
    }
   ],
   "source": [
    "# confirm dataframe loaded into table\n",
    "c.execute('''SELECT * FROM im''')"
   ]
  },
  {
   "cell_type": "code",
   "execution_count": 8,
   "metadata": {},
   "outputs": [],
   "source": [
    "#comment out for pdf print\n",
    "#for row in c.fetchall():\n",
    "#    print (row)"
   ]
  },
  {
   "cell_type": "code",
   "execution_count": 9,
   "metadata": {},
   "outputs": [
    {
     "data": {
      "text/plain": [
       "<sqlite3.Cursor at 0x22271751420>"
      ]
     },
     "execution_count": 9,
     "metadata": {},
     "output_type": "execute_result"
    }
   ],
   "source": [
    "# confirm dataframe loaded into table\n",
    "c.execute('''SELECT * FROM cf''')"
   ]
  },
  {
   "cell_type": "code",
   "execution_count": 10,
   "metadata": {},
   "outputs": [],
   "source": [
    "#comment out for pdf print\n",
    "#for row in c.fetchall():\n",
    "#    print (row)"
   ]
  },
  {
   "cell_type": "code",
   "execution_count": 11,
   "metadata": {},
   "outputs": [
    {
     "data": {
      "text/plain": [
       "<sqlite3.Cursor at 0x22271751420>"
      ]
     },
     "execution_count": 11,
     "metadata": {},
     "output_type": "execute_result"
    }
   ],
   "source": [
    "# confirm dataframe loaded into table\n",
    "c.execute('''SELECT * FROM wts''')"
   ]
  },
  {
   "cell_type": "code",
   "execution_count": 12,
   "metadata": {},
   "outputs": [],
   "source": [
    "#comment out for pdf print\n",
    "#for row in c.fetchall():\n",
    "#    print (row)"
   ]
  },
  {
   "cell_type": "code",
   "execution_count": 13,
   "metadata": {},
   "outputs": [],
   "source": [
    "# close connection\n",
    "conn.close()"
   ]
  },
  {
   "cell_type": "markdown",
   "metadata": {},
   "source": [
    "## Code for visualizations"
   ]
  },
  {
   "cell_type": "code",
   "execution_count": 14,
   "metadata": {},
   "outputs": [],
   "source": [
    "#connect to db\n",
    "conn = sqlite3.connect('database_rpl.db')"
   ]
  },
  {
   "cell_type": "markdown",
   "metadata": {},
   "source": [
    "### Data visualization from one source - plot of countries with over 50 finishers"
   ]
  },
  {
   "cell_type": "code",
   "execution_count": 15,
   "metadata": {},
   "outputs": [],
   "source": [
    "# query finishers from world triathlon series race\n",
    "query = \"\"\"SELECT Country\n",
    "           FROM wts;\"\"\"\n",
    "TM = pd.read_sql(query, conn)"
   ]
  },
  {
   "cell_type": "code",
   "execution_count": 16,
   "metadata": {},
   "outputs": [],
   "source": [
    "# create a DF of countries with over 50 finishers\n",
    "overfifty=pd.DataFrame(TM['Country'].value_counts()\n",
    "                       [TM['Country'].value_counts()>=50]).rename(columns={'Country':'Finishers'})"
   ]
  },
  {
   "cell_type": "code",
   "execution_count": 17,
   "metadata": {},
   "outputs": [
    {
     "data": {
      "text/plain": [
       "<matplotlib.axes._subplots.AxesSubplot at 0x22271a1bb48>"
      ]
     },
     "execution_count": 17,
     "metadata": {},
     "output_type": "execute_result"
    },
    {
     "data": {
      "image/png": "[encoded data removed]",
      "text/plain": [
       "<Figure size 432x288 with 1 Axes>"
      ]
     },
     "metadata": {
      "needs_background": "light"
     },
     "output_type": "display_data"
    }
   ],
   "source": [
    "overfifty.plot.bar(title='World Triathlon Series - Countris with over 50 finishers')"
   ]
  },
  {
   "cell_type": "markdown",
   "metadata": {},
   "source": [
    "### Data visualization from three sources - plot of gender at each event"
   ]
  },
  {
   "cell_type": "code",
   "execution_count": 18,
   "metadata": {},
   "outputs": [],
   "source": [
    "# query gender from world triathlon series race\n",
    "query = \"\"\"SELECT Gender FROM wts;\"\"\"\n",
    "A1 = pd.read_sql(query, conn)"
   ]
  },
  {
   "cell_type": "code",
   "execution_count": 19,
   "metadata": {},
   "outputs": [],
   "source": [
    "# query gender from ironman race\n",
    "query = \"\"\"SELECT Gender FROM im;\"\"\"\n",
    "A2 = pd.read_sql(query, conn)"
   ]
  },
  {
   "cell_type": "code",
   "execution_count": 20,
   "metadata": {},
   "outputs": [],
   "source": [
    "# query gender from challenge family race\n",
    "query = \"\"\"SELECT Gender FROM cf;\"\"\"\n",
    "A3 = pd.read_sql(query, conn)"
   ]
  },
  {
   "cell_type": "code",
   "execution_count": 21,
   "metadata": {},
   "outputs": [],
   "source": [
    "# get counts for each gender at each race, query stored as DF\n",
    "wts_gender = pd.DataFrame(A1['Gender'].value_counts())\n",
    "im_gender = pd.DataFrame(A2['Gender'].value_counts())\n",
    "cf_gender = pd.DataFrame(A3['Gender'].value_counts())"
   ]
  },
  {
   "cell_type": "code",
   "execution_count": 22,
   "metadata": {},
   "outputs": [],
   "source": [
    "# rename the columns from gender\n",
    "wts_gender.columns=['WTS']\n",
    "im_gender.columns=['IM']\n",
    "cf_gender.columns=['CF']"
   ]
  },
  {
   "cell_type": "code",
   "execution_count": 23,
   "metadata": {},
   "outputs": [],
   "source": [
    "# transpose the DF\n",
    "wts_gender=wts_gender.transpose()\n",
    "im_gender=im_gender.transpose()\n",
    "cf_gender=cf_gender.transpose()"
   ]
  },
  {
   "cell_type": "code",
   "execution_count": 24,
   "metadata": {},
   "outputs": [],
   "source": [
    "# combine the dfs\n",
    "test = wts_gender.append(im_gender).append(cf_gender)"
   ]
  },
  {
   "cell_type": "code",
   "execution_count": 25,
   "metadata": {},
   "outputs": [
    {
     "data": {
      "image/png": "[encoded data removed]",
      "text/plain": [
       "<Figure size 432x288 with 1 Axes>"
      ]
     },
     "metadata": {
      "needs_background": "light"
     },
     "output_type": "display_data"
    }
   ],
   "source": [
    "#plot the DF\n",
    "test.plot(kind='bar',title='Plot of gender at each event')\n",
    "# Turn on the grid\n",
    "plt.minorticks_on()\n",
    "plt.grid(which='major', linestyle='-', linewidth='0.5', color='green')\n",
    "plt.grid(which='minor', linestyle=':', linewidth='0.5', color='black')\n",
    "\n",
    "plt.show()"
   ]
  },
  {
   "cell_type": "markdown",
   "metadata": {},
   "source": [
    "### Data visualization from three sources - plot of top 5 countries based on # of finishers at each event"
   ]
  },
  {
   "cell_type": "code",
   "execution_count": 26,
   "metadata": {},
   "outputs": [],
   "source": [
    "# query country from world triathlon series race\n",
    "query = \"\"\"SELECT Country FROM wts;\"\"\"\n",
    "B1 = pd.read_sql(query, conn)"
   ]
  },
  {
   "cell_type": "code",
   "execution_count": 27,
   "metadata": {},
   "outputs": [],
   "source": [
    "# query country from ironman race\n",
    "query = \"\"\"SELECT Country FROM im;\"\"\"\n",
    "B2 = pd.read_sql(query, conn)"
   ]
  },
  {
   "cell_type": "code",
   "execution_count": 28,
   "metadata": {},
   "outputs": [],
   "source": [
    "# query country from challenge famil race\n",
    "query = \"\"\"SELECT Country FROM cf;\"\"\"\n",
    "B3 = pd.read_sql(query, conn)"
   ]
  },
  {
   "cell_type": "code",
   "execution_count": 29,
   "metadata": {},
   "outputs": [],
   "source": [
    "# get counts for each country at each race, take only the largest 5\n",
    "wts_top5 = pd.DataFrame(B1['Country'].value_counts().nlargest(5))\n",
    "im_top5 = pd.DataFrame(B2['Country'].value_counts().nlargest(5))\n",
    "cf_top5 = pd.DataFrame(B3['Country'].value_counts().nlargest(5))"
   ]
  },
  {
   "cell_type": "code",
   "execution_count": 30,
   "metadata": {},
   "outputs": [],
   "source": [
    "# rename the country column\n",
    "wts_top5.columns=['WTS']\n",
    "im_top5.columns=['IM']\n",
    "cf_top5.columns=['CF']"
   ]
  },
  {
   "cell_type": "code",
   "execution_count": 31,
   "metadata": {},
   "outputs": [],
   "source": [
    "# transpose the dataframe\n",
    "wts_top5=wts_top5.transpose()\n",
    "im_top5=im_top5.transpose()\n",
    "cf_top5=cf_top5.transpose()"
   ]
  },
  {
   "cell_type": "code",
   "execution_count": 32,
   "metadata": {},
   "outputs": [],
   "source": [
    "# swap out DEU for GER for comparison purposes\n",
    "im_top5.rename(columns={'DEU':'GER'}, inplace=True)"
   ]
  },
  {
   "cell_type": "code",
   "execution_count": 33,
   "metadata": {},
   "outputs": [],
   "source": [
    "# combine the datafrmes\n",
    "test2 = wts_top5.append(im_top5).append(cf_top5)"
   ]
  },
  {
   "cell_type": "code",
   "execution_count": 34,
   "metadata": {},
   "outputs": [
    {
     "data": {
      "image/png": "[encoded data removed]",
      "text/plain": [
       "<Figure size 432x288 with 1 Axes>"
      ]
     },
     "metadata": {
      "needs_background": "light"
     },
     "output_type": "display_data"
    }
   ],
   "source": [
    "#plot the dataframe\n",
    "test2.plot(kind='bar',title='Top 5 countries based on # of finishers at each event')\n",
    "# Turn on the grid\n",
    "plt.minorticks_on()\n",
    "plt.grid(which='major', linestyle='-', linewidth='0.5', color='green')\n",
    "plt.grid(which='minor', linestyle=':', linewidth='0.5', color='black')\n",
    "\n",
    "plt.show()"
   ]
  },
  {
   "cell_type": "markdown",
   "metadata": {},
   "source": [
    "### Data visualization from one source - histogram of finish time in minutes"
   ]
  },
  {
   "cell_type": "code",
   "execution_count": 35,
   "metadata": {},
   "outputs": [],
   "source": [
    "# query total column from world triathlon series race\n",
    "query = \"\"\"SELECT Total FROM wts;\"\"\"\n",
    "zz = pd.DataFrame(pd.read_sql(query, conn))"
   ]
  },
  {
   "cell_type": "code",
   "execution_count": 36,
   "metadata": {},
   "outputs": [],
   "source": [
    "# change column to timedelta\n",
    "zz.Total = pd.to_timedelta(zz.Total)"
   ]
  },
  {
   "cell_type": "code",
   "execution_count": 37,
   "metadata": {},
   "outputs": [],
   "source": [
    "# converts time for entire race into minutes\n",
    "zz['Total'] = zz['Total'] / np.timedelta64(1, 'm') "
   ]
  },
  {
   "cell_type": "code",
   "execution_count": 38,
   "metadata": {},
   "outputs": [
    {
     "data": {
      "text/plain": [
       "<matplotlib.axes._subplots.AxesSubplot at 0x22271d25dc8>"
      ]
     },
     "execution_count": 38,
     "metadata": {},
     "output_type": "execute_result"
    },
    {
     "data": {
      "image/png": "[encoded data removed]",
      "text/plain": [
       "<Figure size 432x288 with 1 Axes>"
      ]
     },
     "metadata": {
      "needs_background": "light"
     },
     "output_type": "display_data"
    }
   ],
   "source": [
    "# plot distribution of finish times\n",
    "(zz['Total']).plot.hist(bins=50,title='Distribution of finish time in minutes')"
   ]
  },
  {
   "cell_type": "markdown",
   "metadata": {},
   "source": [
    "### Data visualization from one source - histogram of finish time in minutes"
   ]
  },
  {
   "cell_type": "code",
   "execution_count": 39,
   "metadata": {},
   "outputs": [],
   "source": [
    "# query total column from ironman race\n",
    "query = \"\"\"SELECT Total FROM im;\"\"\"\n",
    "yy = pd.DataFrame(pd.read_sql(query, conn))"
   ]
  },
  {
   "cell_type": "code",
   "execution_count": 40,
   "metadata": {},
   "outputs": [],
   "source": [
    "# change column to timedelta\n",
    "yy.Total = pd.to_timedelta(yy.Total)"
   ]
  },
  {
   "cell_type": "code",
   "execution_count": 41,
   "metadata": {},
   "outputs": [],
   "source": [
    "# converts time for entire race into minutes\n",
    "yy['Total'] = yy['Total'] / np.timedelta64(1, 'm') "
   ]
  },
  {
   "cell_type": "code",
   "execution_count": 42,
   "metadata": {},
   "outputs": [
    {
     "data": {
      "text/plain": [
       "<matplotlib.axes._subplots.AxesSubplot at 0x222716d6e88>"
      ]
     },
     "execution_count": 42,
     "metadata": {},
     "output_type": "execute_result"
    },
    {
     "data": {
      "image/png": "[encoded data removed]",
      "text/plain": [
       "<Figure size 432x288 with 1 Axes>"
      ]
     },
     "metadata": {
      "needs_background": "light"
     },
     "output_type": "display_data"
    }
   ],
   "source": [
    "# plot distribution of finish times\n",
    "(yy['Total']).plot.hist(bins=50,title='Distribution of finish time in minutes')"
   ]
  },
  {
   "cell_type": "markdown",
   "metadata": {},
   "source": [
    "### Data visualization from multiple sources - bar chart comparing top 5 countries based on place (minimum 5 finishers)"
   ]
  },
  {
   "cell_type": "code",
   "execution_count": 43,
   "metadata": {},
   "outputs": [],
   "source": [
    "# query country and place from world triathlon series race\n",
    "query = \"\"\"SELECT Place, Country FROM wts;\"\"\"\n",
    "C1 = pd.DataFrame(pd.read_sql(query, conn))"
   ]
  },
  {
   "cell_type": "code",
   "execution_count": 44,
   "metadata": {},
   "outputs": [],
   "source": [
    "# query country and place from ironman race, swap out DEU for GER\n",
    "query = \"\"\"SELECT Place, Country FROM im;\"\"\"\n",
    "C2 = pd.DataFrame(pd.read_sql(query, conn))\n",
    "C2['Country'].replace(['DEU'],['GER'], inplace=True)"
   ]
  },
  {
   "cell_type": "code",
   "execution_count": 45,
   "metadata": {},
   "outputs": [],
   "source": [
    "# query country and place from challenge famile race\n",
    "query = \"\"\"SELECT Place, Country FROM cf;\"\"\"\n",
    "C3 = pd.DataFrame(pd.read_sql(query, conn))"
   ]
  },
  {
   "cell_type": "code",
   "execution_count": 46,
   "metadata": {},
   "outputs": [],
   "source": [
    "#filter out the countries w/ less than 5 results\n",
    "C1=pd.DataFrame(C1.groupby('Country').filter(lambda x : len(x)>5))\n",
    "C2=pd.DataFrame(C2.groupby('Country').filter(lambda x : len(x)>5))\n",
    "C3=pd.DataFrame(C3.groupby('Country').filter(lambda x : len(x)>5))"
   ]
  },
  {
   "cell_type": "code",
   "execution_count": 47,
   "metadata": {},
   "outputs": [],
   "source": [
    "#groupby the smallest (test) 5 results\n",
    "C1=pd.DataFrame(C1.groupby('Country')['Place'].nsmallest(5).reset_index(level=1, drop=True))\n",
    "C2=pd.DataFrame(C2.groupby('Country')['Place'].nsmallest(5).reset_index(level=1, drop=True))\n",
    "C3=pd.DataFrame(C3.groupby('Country')['Place'].nsmallest(5).reset_index(level=1, drop=True))"
   ]
  },
  {
   "cell_type": "code",
   "execution_count": 48,
   "metadata": {},
   "outputs": [],
   "source": [
    "# groupby and sum the 'place' column to determine countries w/ best placing finishers\n",
    "# take 5 countries with lowest value (best placement of finishers)\n",
    "C1=pd.DataFrame(C1.groupby('Country')['Place'].sum().sort_values().nsmallest(5))\n",
    "C2=pd.DataFrame(C2.groupby('Country')['Place'].sum().sort_values().nsmallest(5))\n",
    "C3=pd.DataFrame(C3.groupby('Country')['Place'].sum().sort_values().nsmallest(5))"
   ]
  },
  {
   "cell_type": "code",
   "execution_count": 49,
   "metadata": {},
   "outputs": [],
   "source": [
    "# rename columns to race name\n",
    "C1.columns=['WTS']\n",
    "C2.columns=['IM']\n",
    "C3.columns=['CF']"
   ]
  },
  {
   "cell_type": "code",
   "execution_count": 50,
   "metadata": {},
   "outputs": [],
   "source": [
    "# transpose the dataframes\n",
    "C1=C1.transpose()\n",
    "C2=C2.transpose()\n",
    "C3=C3.transpose()"
   ]
  },
  {
   "cell_type": "code",
   "execution_count": 51,
   "metadata": {},
   "outputs": [],
   "source": [
    "#combine dataframes\n",
    "combine = C1.append(C2).append(C3)"
   ]
  },
  {
   "cell_type": "code",
   "execution_count": 52,
   "metadata": {},
   "outputs": [
    {
     "name": "stderr",
     "output_type": "stream",
     "text": [
      "C:\\Users\\longr\\Anaconda3\\lib\\site-packages\\ipykernel_launcher.py:3: MatplotlibDeprecationWarning: Adding an axes using the same arguments as a previous axes currently reuses the earlier instance.  In a future version, a new instance will always be created and returned.  Meanwhile, this warning can be suppressed, and the future behavior ensured, by passing a unique label to each axes instance.\n",
      "  This is separate from the ipykernel package so we can avoid doing imports until\n"
     ]
    },
    {
     "data": {
      "image/png": "[encoded data removed]",
      "text/plain": [
       "<Figure size 432x288 with 1 Axes>"
      ]
     },
     "metadata": {
      "needs_background": "light"
     },
     "output_type": "display_data"
    }
   ],
   "source": [
    "#plot data frame, offset ledgend out\n",
    "combine.plot(kind='bar',title='Sum of Placement of Top 5 countries (min. 5)')\n",
    "ax = plt.subplot(111)\n",
    "\n",
    "# Turn on the grid\n",
    "plt.minorticks_on()\n",
    "plt.grid(which='major', linestyle='-', linewidth='0.5', color='green')\n",
    "plt.grid(which='minor', linestyle=':', linewidth='0.5', color='black')\n",
    "ax.legend(loc='center left', bbox_to_anchor=(1, 0.5))\n",
    "plt.show()"
   ]
  },
  {
   "cell_type": "markdown",
   "metadata": {},
   "source": [
    "### Data visualization from one source - scatter plot of swim and finish time in minutes from IM race"
   ]
  },
  {
   "cell_type": "code",
   "execution_count": 53,
   "metadata": {},
   "outputs": [],
   "source": [
    "# query swim and total from ironman race\n",
    "query = \"\"\"SELECT Swim, Total FROM im;\"\"\"\n",
    "D1 = pd.DataFrame(pd.read_sql(query, conn))"
   ]
  },
  {
   "cell_type": "code",
   "execution_count": 54,
   "metadata": {},
   "outputs": [],
   "source": [
    "# convert values to timedelta and 'minutes'\n",
    "D1.Total = pd.to_timedelta(D1.Total)\n",
    "D1.Swim = pd.to_timedelta(D1.Swim)\n",
    "D1['Total'] = D1['Total'] / np.timedelta64(1, 'm') \n",
    "D1['Swim'] = D1['Swim'] / np.timedelta64(1, 'm') "
   ]
  },
  {
   "cell_type": "code",
   "execution_count": 55,
   "metadata": {},
   "outputs": [
    {
     "name": "stdout",
     "output_type": "stream",
     "text": [
      "<class 'pandas.core.frame.DataFrame'>\n",
      "RangeIndex: 2256 entries, 0 to 2255\n",
      "Data columns (total 2 columns):\n",
      " #   Column  Non-Null Count  Dtype  \n",
      "---  ------  --------------  -----  \n",
      " 0   Swim    2256 non-null   float64\n",
      " 1   Total   2256 non-null   float64\n",
      "dtypes: float64(2)\n",
      "memory usage: 35.4 KB\n"
     ]
    }
   ],
   "source": [
    "#check change\n",
    "D1.info()"
   ]
  },
  {
   "cell_type": "code",
   "execution_count": 56,
   "metadata": {},
   "outputs": [
    {
     "data": {
      "image/png": "[encoded data removed]",
      "text/plain": [
       "<Figure size 432x288 with 1 Axes>"
      ]
     },
     "metadata": {
      "needs_background": "light"
     },
     "output_type": "display_data"
    }
   ],
   "source": [
    "# plot swim time over total time\n",
    "plt.scatter(D1['Total'], D1['Swim'])\n",
    "plt.title('Ironman Swim and Total Time')\n",
    "plt.xlabel(\"Total Time in Minutes\")\n",
    "plt.ylabel(\"Swim Time in Minutes\")\n",
    "plt.show()"
   ]
  },
  {
   "cell_type": "code",
   "execution_count": 57,
   "metadata": {},
   "outputs": [],
   "source": [
    "# close connection\n",
    "conn.close()"
   ]
  }
 ],
 "metadata": {
  "kernelspec": {
   "display_name": "Python 3",
   "language": "python",
   "name": "python3"
  },
  "language_info": {
   "codemirror_mode": {
    "name": "ipython",
    "version": 3
   },
   "file_extension": ".py",
   "mimetype": "text/x-python",
   "name": "python",
   "nbconvert_exporter": "python",
   "pygments_lexer": "ipython3",
   "version": "3.8.8"
  }
 },
 "nbformat": 4,
 "nbformat_minor": 4
}
